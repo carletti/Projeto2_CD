{
 "cells": [
  {
   "cell_type": "markdown",
   "metadata": {},
   "source": [
    "# Mini-Projeto 2: Teste AB\n",
    "### Gianluca Fornicola, Pedro Garcia e Thiago Carletti\n",
    "\n",
    "Neste teste AB será considerado o seguinte teste de hipótese\n",
    "- Ho: é mais fácil navegar na página 'A', portanto a média do tempo necessário para o usuário achar o projeto Jogo da Velha será menor na página 'A' do que na página 'B'; ou seja, Ua<Ub.\n",
    "- Ha: é mais fácil de navegar na página 'B' do que na página 'A', portanto Ub<Ua.\n",
    "\n",
    "Assim teremos os tipos  de erros dados por:\n",
    "- Erro do  tipo 1: Ho é verdadeira, mas é recusada; ou seja, é considerado que a página 'B' é melhor sendo que na realidade a página 'A' é a melhor.\n",
    "- Erro do tipo 2: Ho é falsa, mas é aceita; ou seja, considera-se que a página 'A' é melhor enquanto, na realidade, é a página 'B'."
   ]
  },
  {
   "cell_type": "code",
   "execution_count": 1,
   "metadata": {
    "collapsed": false
   },
   "outputs": [],
   "source": [
    "%matplotlib inline\n",
    "import pandas as pd\n",
    "import matplotlib.pyplot as plt\n",
    "import numpy as np\n",
    "import os\n",
    "from scipy import stats"
   ]
  },
  {
   "cell_type": "code",
   "execution_count": 3,
   "metadata": {
    "collapsed": false,
    "scrolled": true
   },
   "outputs": [
    {
     "data": {
      "text/plain": [
       "296"
      ]
     },
     "execution_count": 3,
     "metadata": {},
     "output_type": "execute_result"
    }
   ],
   "source": [
    "dados = pd.read_json('coleta_dados.json')\n",
    "dados['logs'].size"
   ]
  },
  {
   "cell_type": "code",
   "execution_count": 4,
   "metadata": {
    "collapsed": false
   },
   "outputs": [],
   "source": [
    "# separando os dados das versões A e B\n",
    "listaA = []\n",
    "listaB = []\n",
    "for i in range(296):\n",
    "    if dados['logs'][i]['versao'] == \"A\":\n",
    "        listaA.append(dados['logs'][i])\n",
    "    elif dados['logs'][i]['versao'] == \"B\":\n",
    "        listaB.append(dados['logs'][i])\n",
    "\n",
    "        \n"
   ]
  },
  {
   "cell_type": "code",
   "execution_count": 5,
   "metadata": {
    "collapsed": false
   },
   "outputs": [],
   "source": [
    "# Dados relativos aos tempos final e inicial separados (versão A)\n",
    "finais_A = []\n",
    "iniciais_A = []\n",
    "for i in range(len(listaA)):\n",
    "    if listaA[i]['tipo'] == 'inicio':\n",
    "        iniciais_A.append(listaA[i]['tempo'])\n",
    "    elif listaA[i]['tipo'] == 'final':\n",
    "        finais_A.append(listaA[i]['tempo'])\n"
   ]
  },
  {
   "cell_type": "code",
   "execution_count": 6,
   "metadata": {
    "collapsed": false
   },
   "outputs": [
    {
     "data": {
      "text/plain": [
       "58"
      ]
     },
     "execution_count": 6,
     "metadata": {},
     "output_type": "execute_result"
    }
   ],
   "source": [
    "len(finais_A)"
   ]
  },
  {
   "cell_type": "code",
   "execution_count": 7,
   "metadata": {
    "collapsed": false
   },
   "outputs": [
    {
     "data": {
      "text/plain": [
       "58"
      ]
     },
     "execution_count": 7,
     "metadata": {},
     "output_type": "execute_result"
    }
   ],
   "source": [
    "# filtragem da lista A, ha mais tempos iniciais (pessoas não terminavam a tarefa designada)\n",
    "A = iniciais_A[0:58]\n",
    "len(A)"
   ]
  },
  {
   "cell_type": "code",
   "execution_count": 8,
   "metadata": {
    "collapsed": false
   },
   "outputs": [],
   "source": [
    "# Dados relativos aos tempos final e inicial separados (versão B)\n",
    "finais_B = []\n",
    "iniciais_B = []\n",
    "for i in range(len(listaB)):\n",
    "    if listaB[i]['tipo'] == 'inicio':\n",
    "        iniciais_B.append(listaA[i]['tempo'])\n",
    "    elif listaB[i]['tipo'] == 'final':\n",
    "        finais_B.append(listaA[i]['tempo'])\n",
    "        "
   ]
  },
  {
   "cell_type": "code",
   "execution_count": 9,
   "metadata": {
    "collapsed": false
   },
   "outputs": [
    {
     "data": {
      "text/plain": [
       "48"
      ]
     },
     "execution_count": 9,
     "metadata": {},
     "output_type": "execute_result"
    }
   ],
   "source": [
    "len(finais_B)"
   ]
  },
  {
   "cell_type": "code",
   "execution_count": 10,
   "metadata": {
    "collapsed": false
   },
   "outputs": [
    {
     "data": {
      "text/plain": [
       "48"
      ]
     },
     "execution_count": 10,
     "metadata": {},
     "output_type": "execute_result"
    }
   ],
   "source": [
    "# filtragem da lista B, ha mais tempos iniciais (pessoas não terminavam a tarefa designada)\n",
    "B = iniciais_B[0:48]\n",
    "len(B)"
   ]
  },
  {
   "cell_type": "code",
   "execution_count": 11,
   "metadata": {
    "collapsed": false
   },
   "outputs": [],
   "source": [
    "# funçao que calcula o delta T entre as listas\n",
    "def delta(final,inicial):\n",
    "    lista = []\n",
    "    for i in range(len(final)):\n",
    "        lista.append(final[i]-inicial[i])\n",
    "    return(lista)\n",
    "\n",
    "tempos_A = delta(finais_A,A)\n",
    "tempos_B = delta(finais_B,B)"
   ]
  },
  {
   "cell_type": "code",
   "execution_count": 12,
   "metadata": {
    "collapsed": false
   },
   "outputs": [],
   "source": [
    "Azones = pd.Series(tempos_A)\n",
    "Bzones = pd.Series(tempos_B)"
   ]
  },
  {
   "cell_type": "code",
   "execution_count": 13,
   "metadata": {
    "collapsed": false
   },
   "outputs": [
    {
     "data": {
      "text/plain": [
       "434118196.4310345"
      ]
     },
     "execution_count": 13,
     "metadata": {},
     "output_type": "execute_result"
    }
   ],
   "source": [
    "# média de tempo necessário para realizar a tarefa na versão A do site\n",
    "Azones.mean()"
   ]
  },
  {
   "cell_type": "code",
   "execution_count": 14,
   "metadata": {
    "collapsed": false
   },
   "outputs": [
    {
     "data": {
      "text/plain": [
       "701138696.0208334"
      ]
     },
     "execution_count": 14,
     "metadata": {},
     "output_type": "execute_result"
    }
   ],
   "source": [
    "# média de tempo necessário para realizar a tarefa na versão B do site\n",
    "Bzones.mean()"
   ]
  },
  {
   "cell_type": "code",
   "execution_count": 15,
   "metadata": {
    "collapsed": false
   },
   "outputs": [
    {
     "data": {
      "text/plain": [
       "502956491.8885641"
      ]
     },
     "execution_count": 15,
     "metadata": {},
     "output_type": "execute_result"
    }
   ],
   "source": [
    "# desvio padrão do tempo necessário para realizar a tarefa designada na versão A\n",
    "Azones.std()"
   ]
  },
  {
   "cell_type": "code",
   "execution_count": 16,
   "metadata": {
    "collapsed": false
   },
   "outputs": [
    {
     "data": {
      "text/plain": [
       "473115435.31392235"
      ]
     },
     "execution_count": 16,
     "metadata": {},
     "output_type": "execute_result"
    }
   ],
   "source": [
    "# desvio padrão do tempo necessário para realizar a tarefa designada na versão B\n",
    "Bzones.std()"
   ]
  },
  {
   "cell_type": "code",
   "execution_count": 17,
   "metadata": {
    "collapsed": false
   },
   "outputs": [
    {
     "data": {
      "text/plain": [
       "[<matplotlib.lines.Line2D at 0xa8c42e8>]"
      ]
     },
     "execution_count": 17,
     "metadata": {},
     "output_type": "execute_result"
    },
    {
     "data": {
      "image/png": "[encoded data removed]",
      "text/plain": [
       "<matplotlib.figure.Figure at 0xa82c7f0>"
      ]
     },
     "metadata": {},
     "output_type": "display_data"
    }
   ],
   "source": [
    "# plot da normal da média de tempo necessária para realizar a tarefa designada na versão A\n",
    "a = Azones.mean()\n",
    "b = Azones.std()\n",
    "x=sorted(stats.norm.rvs(size=10000, loc=a, scale=b))\n",
    "plt.plot(x, stats.norm.pdf(x, a, b), lw=3, alpha=0.6, color='magenta')"
   ]
  },
  {
   "cell_type": "code",
   "execution_count": 18,
   "metadata": {
    "collapsed": false
   },
   "outputs": [
    {
     "data": {
      "text/plain": [
       "[<matplotlib.lines.Line2D at 0xa8765f8>]"
      ]
     },
     "execution_count": 18,
     "metadata": {},
     "output_type": "execute_result"
    },
    {
     "data": {
      "image/png": "[encoded data removed]",
      "text/plain": [
       "<matplotlib.figure.Figure at 0xa82cef0>"
      ]
     },
     "metadata": {},
     "output_type": "display_data"
    }
   ],
   "source": [
    "# plot da normal da média de tempo necessária para realizar a tarefa designada na versão B\n",
    "c = Bzones.mean()\n",
    "d = Bzones.std()\n",
    "x=sorted(stats.norm.rvs(size=10000, loc=c, scale=d))\n",
    "plt.plot(x, stats.norm.pdf(x, c, d), lw=3, alpha=0.6, color='black')"
   ]
  },
  {
   "cell_type": "markdown",
   "metadata": {
    "collapsed": true
   },
   "source": [
    "#### Portanto temos que Ho é verdadeira."
   ]
  },
  {
   "cell_type": "code",
   "execution_count": null,
   "metadata": {
    "collapsed": true
   },
   "outputs": [],
   "source": []
  }
 ],
 "metadata": {
  "anaconda-cloud": {},
  "kernelspec": {
   "display_name": "Python [Root]",
   "language": "python",
   "name": "Python [Root]"
  },
  "language_info": {
   "codemirror_mode": {
    "name": "ipython",
    "version": 3
   },
   "file_extension": ".py",
   "mimetype": "text/x-python",
   "name": "python",
   "nbconvert_exporter": "python",
   "pygments_lexer": "ipython3",
   "version": "3.5.2"
  }
 },
 "nbformat": 4,
 "nbformat_minor": 0
}
